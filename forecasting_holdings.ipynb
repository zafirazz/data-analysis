{
 "cells": [
  {
   "cell_type": "code",
   "execution_count": null,
   "id": "e8f9cf45-0eb8-462e-b7bb-bb226f817ad7",
   "metadata": {},
   "outputs": [],
   "source": [
    "import pandas as pd\n",
    "import numpy as np\n",
    "import math\n",
    "import matplotlib.pyplot as plt # Visualization \n",
    "import matplotlib.dates as mdates # Formatting dates\n",
    "import seaborn as sns # Visualization\n",
    "from sklearn.preprocessing import MinMaxScaler\n",
    "import torch # Library for implementing Deep Neural Network \n",
    "import torch.nn as nn\n",
    "import torch.nn.functional as F\n",
    "import torch.optim as optim\n",
    "from torch.utils.data import Dataset, DataLoader"
   ]
  },
  {
   "cell_type": "code",
   "execution_count": null,
   "id": "1503d084-f9e0-48f7-ba4a-58f86f729b7b",
   "metadata": {},
   "outputs": [],
   "source": [
    "df = pd.read_csv('assets_per_month.csv')\n",
    "df['Month'] = pd.to_datetime(df['Month'])\n",
    "\n",
    "def data_plot(df):\n",
    "    df_plot = df.copy()\n",
    "\n",
    "    ncols = 2\n",
    "    nrows = 1\n",
    "\n",
    "    fig, ax = plt.subplots(nrows=nrows, ncols=ncols,\n",
    "                           sharex=True, figsize=(14, 7))\n",
    "    for i, ax in enumerate(fig.axes):\n",
    "        sns.lineplot(data=df_plot.iloc[:, i], ax=ax, marker='s', color='blue')  # Set marker to 's' for squares\n",
    "        ax.set_title(df_plot.columns[i], fontsize=14)  \n",
    "        ax.set_xlabel('Month', fontsize=12)  \n",
    "        ax.set_ylabel('Assets', fontsize=12)  \n",
    "        ax.tick_params(axis=\"x\", rotation=30, labelsize=10, length=0)\n",
    "        ax.xaxis.set_major_locator(mdates.AutoDateLocator())\n",
    "        ax.grid(True) \n",
    "    fig.tight_layout()\n",
    "    plt.show()\n",
    "\n",
    "data_plot(df)"
   ]
  },
  {
   "cell_type": "code",
   "execution_count": null,
   "id": "5ff52068-221a-4ac2-807c-bba3c5139a67",
   "metadata": {},
   "outputs": [],
   "source": [
    "training_data = math.ceil(len(df) * .8)\n",
    "training_data\n",
    "\n",
    "train_data = df[:training_data].iloc[:, :12]\n",
    "test_data = df[training_data:].iloc[:, :12]\n",
    "print(train_data.shape, test_data.shape)"
   ]
  },
  {
   "cell_type": "code",
   "execution_count": null,
   "id": "442e1d1f-c497-48b2-8d2e-4e90e7278aa6",
   "metadata": {},
   "outputs": [],
   "source": [
    "dataset_train = train_data.Assets.values\n",
    "dataset_train = np.reshape(dataset_train, (-1, 1))\n",
    "dataset_train.shape"
   ]
  },
  {
   "cell_type": "code",
   "execution_count": null,
   "id": "60d19d08-36aa-43aa-a85f-7eefd838dd7a",
   "metadata": {},
   "outputs": [],
   "source": [
    "dataset_test = test_data.Assets.values\n",
    "dataset_test = np.reshape(dataset_test, (-1, 1))\n",
    "dataset_test.shape"
   ]
  },
  {
   "cell_type": "code",
   "execution_count": null,
   "id": "42bb1339-8680-475f-823d-bbb0f941722b",
   "metadata": {},
   "outputs": [],
   "source": [
    "scaler = MinMaxScaler(feature_range=(0,1))\n",
    "scaled_train =scaler.fit_transform(dataset_train)\n",
    "\n",
    "print(scaled_train[:5])\n",
    "\n",
    "scaled_test = scaler.fit_transform(dataset_test)\n",
    "print(*scaled_test[:5])"
   ]
  },
  {
   "cell_type": "code",
   "execution_count": null,
   "id": "7ca07c15-44f4-4356-8eef-413860cdb60e",
   "metadata": {},
   "outputs": [],
   "source": [
    "sequence_length = 13\n",
    "\n",
    "scaler = MinMaxScaler(feature_range=(0, 1))\n",
    "scaled_data = scaler.fit_transform(df[['Assets']])\n",
    "\n",
    "x_train, y_train = [], []\n",
    "\n",
    "for i in range(len(scaled_train) - sequence_length):\n",
    "    x_train.append(scaled_train[i:i+sequnce_length])\n",
    "    y_train.append(scaled_train[i+1:i+sequence_length+1])\n",
    "    \n",
    "x_train, y_train = np.array(x_train), np.array(y_train)\n",
    "\n",
    "x_train = torch.tensor(x_train, dtype=torch.float32)\n",
    "y_train = torch.tensor(y_train, dtype=torch.float32)\n",
    "x_train.shape, y_train.shape"
   ]
  },
  {
   "cell_type": "code",
   "execution_count": null,
   "id": "06c0d685-84f7-402d-9e3d-65b40ec2788d",
   "metadata": {},
   "outputs": [],
   "source": []
  }
 ],
 "metadata": {
  "kernelspec": {
   "display_name": "Python 3 (ipykernel)",
   "language": "python",
   "name": "python3"
  },
  "language_info": {
   "codemirror_mode": {
    "name": "ipython",
    "version": 3
   },
   "file_extension": ".py",
   "mimetype": "text/x-python",
   "name": "python",
   "nbconvert_exporter": "python",
   "pygments_lexer": "ipython3",
   "version": "3.12.1"
  }
 },
 "nbformat": 4,
 "nbformat_minor": 5
}
